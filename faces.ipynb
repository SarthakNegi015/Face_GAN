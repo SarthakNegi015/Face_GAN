{
 "cells": [
  {
   "cell_type": "code",
   "execution_count": 1,
   "id": "723c6709",
   "metadata": {},
   "outputs": [],
   "source": [
    "import os\n",
    "from torch.utils.data import DataLoader\n",
    "from torchvision.datasets import ImageFolder\n",
    "import torchvision.transforms as tt\n",
    "import torch\n",
    "import torch.nn as nn\n",
    "import cv2\n",
    "from tqdm.notebook import tqdm\n",
    "import torch.nn.functional as F\n",
    "from torchvision.utils import save_image\n",
    "from torchvision.utils import make_grid\n",
    "import matplotlib.pyplot as plt\n",
    "%matplotlib inline"
   ]
  },
  {
   "cell_type": "code",
   "execution_count": 2,
   "id": "3c052cb9",
   "metadata": {},
   "outputs": [],
   "source": [
    "def get_default_device():\n",
    "    \"\"\"Pick GPU if available, else CPU\"\"\"\n",
    "    if torch.cuda.is_available():\n",
    "        return torch.device('cuda')\n",
    "    else:\n",
    "        return torch.device('cpu')\n",
    "device = torch.device(\"cuda\" if torch.cuda.is_available() else \"cpu\")\n",
    "def to_device(data, device):\n",
    "    \"\"\"Move tensor(s) to chosen device\"\"\"\n",
    "    if isinstance(data, (list,tuple)):\n",
    "        return [to_device(x, device) for x in data]\n",
    "    return data.to(device, non_blocking=True)\n",
    "\n",
    "class DeviceDataLoader():\n",
    "    \"\"\"Wrap a dataloader to move data to a device\"\"\"\n",
    "    def __init__(self, dl, device):\n",
    "        self.dl = dl\n",
    "        self.device = device\n",
    "        \n",
    "    def __iter__(self):\n",
    "        \"\"\"Yield a batch of data after moving it to device\"\"\"\n",
    "        for b in self.dl: \n",
    "            yield to_device(b, self.device)\n",
    "\n",
    "    def __len__(self):\n",
    "        \"\"\"Number of batches\"\"\"\n",
    "        return len(self.dl)"
   ]
  },
  {
   "cell_type": "code",
   "execution_count": 3,
   "id": "33485787",
   "metadata": {},
   "outputs": [
    {
     "data": {
      "text/plain": [
       "device(type='cuda')"
      ]
     },
     "execution_count": 3,
     "metadata": {},
     "output_type": "execute_result"
    }
   ],
   "source": [
    "device"
   ]
  },
  {
   "cell_type": "code",
   "execution_count": 4,
   "id": "c2a3c9b9",
   "metadata": {},
   "outputs": [],
   "source": [
    "Data_Dir='D:\\Jupyter_Workplace\\Computer Vision\\Generative_Adversarial_Networks\\Faces_Data'"
   ]
  },
  {
   "cell_type": "code",
   "execution_count": 5,
   "id": "2f9d339f",
   "metadata": {},
   "outputs": [
    {
     "name": "stdout",
     "output_type": "stream",
     "text": [
      "['Humans']\n"
     ]
    }
   ],
   "source": [
    "print(os.listdir(Data_Dir))"
   ]
  },
  {
   "cell_type": "code",
   "execution_count": 6,
   "id": "85ee9ee2",
   "metadata": {},
   "outputs": [
    {
     "name": "stdout",
     "output_type": "stream",
     "text": [
      "['1 (1).jpeg', '1 (1).jpg', '1 (1).png', '1 (10).jpeg', '1 (10).jpg', '1 (10).png', '1 (100).jpg', '1 (100).png', '1 (1000).jpg', '1 (1001).jpg']\n"
     ]
    }
   ],
   "source": [
    "print(os.listdir(Data_Dir+'/Humans')[:10])"
   ]
  },
  {
   "cell_type": "markdown",
   "id": "b7b41955",
   "metadata": {},
   "source": [
    "# Resize and crop the images to 64x64 px, and normalize the pixel values with a mean & standard deviation of 0.5. "
   ]
  },
  {
   "cell_type": "code",
   "execution_count": 7,
   "id": "3e57df1c",
   "metadata": {},
   "outputs": [],
   "source": [
    "latent_size=256"
   ]
  },
  {
   "cell_type": "code",
   "execution_count": 8,
   "id": "fbdb4a9e",
   "metadata": {},
   "outputs": [],
   "source": [
    "image_size=64\n",
    "batch_size=128\n",
    "stats=(0.5,0.5,0.5),(0.5,0.5,0.5)\n",
    "train_ds = ImageFolder(Data_Dir, transform=tt.Compose([\n",
    "    tt.Resize(image_size),\n",
    "    tt.CenterCrop(image_size),\n",
    "    tt.ToTensor(),\n",
    "    tt.Normalize(*stats)]))\n",
    "train_dl=DataLoader(train_ds, batch_size,shuffle=True,num_workers=3, pin_memory=True)"
   ]
  },
  {
   "cell_type": "code",
   "execution_count": 9,
   "id": "74f51d18",
   "metadata": {},
   "outputs": [],
   "source": [
    "def denorm(img_tensors):\n",
    "    return img_tensors * stats[1][0] + stats[0][0]"
   ]
  },
  {
   "cell_type": "code",
   "execution_count": 10,
   "id": "09f49438",
   "metadata": {},
   "outputs": [],
   "source": [
    "def show_images(images, nmax=64):\n",
    "    fig, ax = plt.subplots(figsize=(8, 8))\n",
    "    ax.set_xticks([]); ax.set_yticks([])\n",
    "    ax.imshow(make_grid(denorm(images.detach()[:nmax]), nrow=8).permute(1, 2, 0))\n",
    "\n",
    "def show_batch(dl, nmax=64):\n",
    "    for images, _ in dl:\n",
    "        show_images(images, nmax)\n",
    "        break"
   ]
  },
  {
   "cell_type": "code",
   "execution_count": 11,
   "id": "3d7ad721",
   "metadata": {},
   "outputs": [],
   "source": [
    "train_dl = DeviceDataLoader(train_dl, device)"
   ]
  },
  {
   "cell_type": "markdown",
   "id": "f56a2f2b",
   "metadata": {},
   "source": [
    "# Generator"
   ]
  },
  {
   "cell_type": "code",
   "execution_count": 12,
   "id": "107fe43b",
   "metadata": {},
   "outputs": [],
   "source": [
    "generator=nn.Sequential(nn.ConvTranspose2d(latent_size,512,kernel_size=4, stride=1, padding=0,bias=False),\n",
    "                       nn.BatchNorm2d(512,momentum=0.3),\n",
    "                       nn.ReLU(True),\n",
    "                        # out: 512 X 4 X 4\n",
    "                       nn.ConvTranspose2d(512,256,kernel_size=4,stride=2,padding=1,bias=False),\n",
    "                        nn.BatchNorm2d(256,momentum=0.3),\n",
    "                        nn.ReLU(True),\n",
    "                        # out: 256 X 8 X 8\n",
    "                        nn.ConvTranspose2d(256,128,kernel_size=4, stride=2, padding=1,bias=False),\n",
    "                        nn.BatchNorm2d(128,momentum=0.3),\n",
    "                        nn.ReLU(True),\n",
    "                        # out: 128 X 16 X 16\n",
    "                        nn.ConvTranspose2d(128,64,kernel_size=4, stride=2, padding=1, bias=False),\n",
    "                        nn.BatchNorm2d(64,momentum=0.3),\n",
    "                        nn.ReLU(True),\n",
    "                        # out: 64 X 32 X 32\n",
    "                        nn.ConvTranspose2d(64,3, kernel_size=4, stride=2, padding=1, bias=False),\n",
    "                        nn.Tanh()\n",
    "                        # out: 3 X 64 X 64\n",
    "                       )"
   ]
  },
  {
   "cell_type": "code",
   "execution_count": 13,
   "id": "f080ec4c",
   "metadata": {},
   "outputs": [],
   "source": [
    "generator=generator.to(device)"
   ]
  },
  {
   "cell_type": "markdown",
   "id": "3deecc81",
   "metadata": {},
   "source": [
    "# Disrciminator"
   ]
  },
  {
   "cell_type": "code",
   "execution_count": 14,
   "id": "e6cd8521",
   "metadata": {},
   "outputs": [],
   "source": [
    "discriminator=nn.Sequential(\n",
    "nn.Conv2d(3,64,kernel_size=4,stride=2,padding=1,bias=False),\n",
    "nn.BatchNorm2d(64,momentum=0.3),\n",
    "nn.LeakyReLU(0.2, inplace=True),\n",
    "# out: 64 X 32 X 32\n",
    "    \n",
    "nn.Conv2d(64, 128, kernel_size=4, stride=2, padding=1, bias=False),\n",
    "nn.BatchNorm2d(128,momentum=0.3),\n",
    "nn.LeakyReLU(0.2, inplace=True),\n",
    "# out: 128 X16 X 16\n",
    "\n",
    "nn.Conv2d(128,256,kernel_size=4, stride=2,padding=1, bias=False),\n",
    "nn.BatchNorm2d(256,momentum=0.3),\n",
    "nn.LeakyReLU(0.2, inplace=True),\n",
    "# out: 256 X 8 X 8\n",
    "\n",
    "nn.Conv2d(256,512, kernel_size=4, stride=2, padding=1, bias=False),\n",
    "nn.BatchNorm2d(512,momentum=0.3),\n",
    "nn.LeakyReLU(0.2, inplace=True),\n",
    "# out: 512 X 4 X 4\n",
    "\n",
    "nn.Conv2d(512,1, kernel_size=4, stride=1, padding=0, bias=False),\n",
    "nn.Flatten(),\n",
    "nn.Sigmoid()\n",
    ")"
   ]
  },
  {
   "cell_type": "code",
   "execution_count": 15,
   "id": "a382bfc0",
   "metadata": {},
   "outputs": [],
   "source": [
    "discriminator=discriminator.to(device)"
   ]
  },
  {
   "cell_type": "markdown",
   "id": "15c4d9a8",
   "metadata": {},
   "source": [
    "# Function to save each image generated after every epoch"
   ]
  },
  {
   "cell_type": "code",
   "execution_count": 16,
   "id": "a4c1af91",
   "metadata": {},
   "outputs": [],
   "source": [
    "sample_dir='generated_faces'\n",
    "os.makedirs(sample_dir,exist_ok=True)\n",
    "\n",
    "def save_samples(index, latent_tensors, show=True):\n",
    "    fake_images= generator(latent_tensors)\n",
    "    fake_fname= 'generated-images-{0:0=4d}.png'.format(index)\n",
    "    save_image(denorm(fake_images), os.path.join(sample_dir,fake_fname), nrow=8)\n",
    "    print('Saving', fake_fname)\n",
    "    if show:\n",
    "        fig, ax= plt.subplots(figsize=(8,8))\n",
    "        ax.set_xticks([]); ax.set_yticks([])\n",
    "        ax.imshow(make_grid(fake_images.cpu().detach(),nrow=8).permute(1,2, 0))"
   ]
  },
  {
   "cell_type": "markdown",
   "id": "461a9b2d",
   "metadata": {},
   "source": [
    "# Training"
   ]
  },
  {
   "cell_type": "code",
   "execution_count": 17,
   "id": "948f6d89",
   "metadata": {},
   "outputs": [],
   "source": [
    "def train_discriminator(real_images, opt_d):\n",
    "    opt_d.zero_grad()\n",
    "    \n",
    "    # pass real images through dircriminator\n",
    "    real_preds= discriminator(real_images)\n",
    "    real_targets=torch.ones(real_images.size(0),1,device=device)\n",
    "    real_loss=F.binary_cross_entropy(real_preds,real_targets)\n",
    "    real_score=torch.mean(real_preds).item()\n",
    "    \n",
    "    #Generate Fake images\n",
    "    latent=torch.randn(batch_size, latent_size,1,1,device=device)\n",
    "    fake_images=generator(latent)\n",
    "    \n",
    "    #Pass the fake images through discriminator\n",
    "    fake_targets= torch.zeros(fake_images.size(0),1, device=device)\n",
    "    fake_preds=discriminator(fake_images)\n",
    "    fake_loss=F.binary_cross_entropy(fake_preds, fake_targets)\n",
    "    fake_score=torch.mean(fake_preds).item()\n",
    "    \n",
    "    #Update discriminator weights\n",
    "    loss=real_loss + fake_loss\n",
    "    loss.backward()\n",
    "    opt_d.step()\n",
    "    return loss.item(), real_score, fake_score"
   ]
  },
  {
   "cell_type": "code",
   "execution_count": 18,
   "id": "6dfa05ef",
   "metadata": {},
   "outputs": [],
   "source": [
    "def train_generator(opt_g):\n",
    "    #Clear generator gradients\n",
    "    opt_g.zero_grad()\n",
    "    \n",
    "    #Generate fake images\n",
    "    latent=torch.randn(batch_size,latent_size,1,1, device=device)\n",
    "    fake_images=generator(latent)\n",
    "    \n",
    "    #try to fool the dircriminator\n",
    "    preds=discriminator(fake_images)\n",
    "    targets=torch.ones(batch_size,1,device=device)\n",
    "    loss=F.binary_cross_entropy(preds,targets)\n",
    "    \n",
    "    #update generator weights\n",
    "    loss.backward()\n",
    "    opt_g.step()\n",
    "    \n",
    "    return loss.item()"
   ]
  },
  {
   "cell_type": "markdown",
   "id": "82bc2348",
   "metadata": {},
   "source": [
    "# Now we will build a training function which will train the discriminator and generator."
   ]
  },
  {
   "cell_type": "code",
   "execution_count": 19,
   "id": "104d405e",
   "metadata": {},
   "outputs": [],
   "source": [
    "fixed_latent = torch.randn(4, latent_size, 1, 1, device=device)"
   ]
  },
  {
   "cell_type": "code",
   "execution_count": 20,
   "id": "101cca3d",
   "metadata": {},
   "outputs": [],
   "source": [
    "def fit(epochs, lr, start_idx=1):\n",
    "    torch.cuda.empty_cache()\n",
    "    #Losses & Scores\n",
    "    losses_g=[]\n",
    "    losses_d=[]\n",
    "    real_scores=[]\n",
    "    fake_scores=[]\n",
    "    \n",
    "    # Create optimizers\n",
    "    opt_d=torch.optim.Adam(discriminator.parameters(),lr=lr, betas=(0.5,0.999))\n",
    "    opt_g=torch.optim.Adam(generator.parameters(),lr=lr,betas=(0.5,0.999))\n",
    "    \n",
    "    for epoch in range(epochs):\n",
    "        for real_images, _ in tqdm(train_dl):\n",
    "            #Train discriminator\n",
    "            loss_d, real_score, fake_score=train_discriminator(real_images,opt_d)\n",
    "            loss_g=train_generator(opt_g)\n",
    "            \n",
    "        #Record losses & Scores\n",
    "        losses_g.append(loss_g)\n",
    "        losses_d.append(loss_d)\n",
    "        real_scores.append(real_score)\n",
    "        fake_scores.append(fake_score)\n",
    "        \n",
    "        # LOg losses & Scores (last batch)\n",
    "        print(\"Epoch[{}/{}], loss_g:{:.4f}, loss_d: {:.4f}, real_score: {:.4f}, fake_score: {:.4f}\".format(epoch+1, epochs, loss_g,loss_d, real_score,fake_score))\n",
    "        \n",
    "        # Save Generated Images\n",
    "        save_samples(epoch+start_idx,fixed_latent,show=False)\n",
    "    return losses_g, losses_d,real_scores, fake_scores"
   ]
  },
  {
   "cell_type": "code",
   "execution_count": 21,
   "id": "5b355b6a",
   "metadata": {},
   "outputs": [],
   "source": [
    "epochs=100\n",
    "lr=0.0002"
   ]
  },
  {
   "cell_type": "code",
   "execution_count": 22,
   "id": "fe9d415b",
   "metadata": {
    "scrolled": true
   },
   "outputs": [
    {
     "data": {
      "application/vnd.jupyter.widget-view+json": {
       "model_id": "cc17c15df65444e089917f4ee6414e9c",
       "version_major": 2,
       "version_minor": 0
      },
      "text/plain": [
       "  0%|          | 0/57 [00:00<?, ?it/s]"
      ]
     },
     "metadata": {},
     "output_type": "display_data"
    },
    {
     "name": "stdout",
     "output_type": "stream",
     "text": [
      "Epoch[1/100], loss_g:10.1848, loss_d: 0.4356, real_score: 0.9763, fake_score: 0.3309\n",
      "Saving generated-images-0001.png\n"
     ]
    },
    {
     "data": {
      "application/vnd.jupyter.widget-view+json": {
       "model_id": "57b48b28330948298905459425294791",
       "version_major": 2,
       "version_minor": 0
      },
      "text/plain": [
       "  0%|          | 0/57 [00:00<?, ?it/s]"
      ]
     },
     "metadata": {},
     "output_type": "display_data"
    },
    {
     "name": "stdout",
     "output_type": "stream",
     "text": [
      "Epoch[2/100], loss_g:5.3780, loss_d: 0.2557, real_score: 0.8297, fake_score: 0.0197\n",
      "Saving generated-images-0002.png\n"
     ]
    },
    {
     "data": {
      "application/vnd.jupyter.widget-view+json": {
       "model_id": "a41d8b1e52704e9c9cc5ad33df8c0d78",
       "version_major": 2,
       "version_minor": 0
      },
      "text/plain": [
       "  0%|          | 0/57 [00:00<?, ?it/s]"
      ]
     },
     "metadata": {},
     "output_type": "display_data"
    },
    {
     "name": "stdout",
     "output_type": "stream",
     "text": [
      "Epoch[3/100], loss_g:3.4161, loss_d: 0.6121, real_score: 0.6479, fake_score: 0.0817\n",
      "Saving generated-images-0003.png\n"
     ]
    },
    {
     "data": {
      "application/vnd.jupyter.widget-view+json": {
       "model_id": "4234489874354f0f8950750401485702",
       "version_major": 2,
       "version_minor": 0
      },
      "text/plain": [
       "  0%|          | 0/57 [00:00<?, ?it/s]"
      ]
     },
     "metadata": {},
     "output_type": "display_data"
    },
    {
     "name": "stdout",
     "output_type": "stream",
     "text": [
      "Epoch[4/100], loss_g:3.7246, loss_d: 0.5430, real_score: 0.8784, fake_score: 0.3106\n",
      "Saving generated-images-0004.png\n"
     ]
    },
    {
     "data": {
      "application/vnd.jupyter.widget-view+json": {
       "model_id": "4cb55986f0464e09a1961d882e07e008",
       "version_major": 2,
       "version_minor": 0
      },
      "text/plain": [
       "  0%|          | 0/57 [00:00<?, ?it/s]"
      ]
     },
     "metadata": {},
     "output_type": "display_data"
    },
    {
     "name": "stdout",
     "output_type": "stream",
     "text": [
      "Epoch[5/100], loss_g:3.8742, loss_d: 0.2912, real_score: 0.9401, fake_score: 0.1941\n",
      "Saving generated-images-0005.png\n"
     ]
    },
    {
     "data": {
      "application/vnd.jupyter.widget-view+json": {
       "model_id": "2dd5076b79f445b986e7e127698fe92e",
       "version_major": 2,
       "version_minor": 0
      },
      "text/plain": [
       "  0%|          | 0/57 [00:00<?, ?it/s]"
      ]
     },
     "metadata": {},
     "output_type": "display_data"
    },
    {
     "name": "stdout",
     "output_type": "stream",
     "text": [
      "Epoch[6/100], loss_g:8.3243, loss_d: 1.5055, real_score: 0.9831, fake_score: 0.7282\n",
      "Saving generated-images-0006.png\n"
     ]
    },
    {
     "data": {
      "application/vnd.jupyter.widget-view+json": {
       "model_id": "8fc122976eeb46d3bfab7baa87ae70cd",
       "version_major": 2,
       "version_minor": 0
      },
      "text/plain": [
       "  0%|          | 0/57 [00:00<?, ?it/s]"
      ]
     },
     "metadata": {},
     "output_type": "display_data"
    },
    {
     "name": "stdout",
     "output_type": "stream",
     "text": [
      "Epoch[7/100], loss_g:5.2387, loss_d: 0.6423, real_score: 0.9282, fake_score: 0.3887\n",
      "Saving generated-images-0007.png\n"
     ]
    },
    {
     "data": {
      "application/vnd.jupyter.widget-view+json": {
       "model_id": "6e7597346c204385abbb9f2d349cdf17",
       "version_major": 2,
       "version_minor": 0
      },
      "text/plain": [
       "  0%|          | 0/57 [00:00<?, ?it/s]"
      ]
     },
     "metadata": {},
     "output_type": "display_data"
    },
    {
     "name": "stdout",
     "output_type": "stream",
     "text": [
      "Epoch[8/100], loss_g:4.0383, loss_d: 0.3727, real_score: 0.9136, fake_score: 0.2178\n",
      "Saving generated-images-0008.png\n"
     ]
    },
    {
     "data": {
      "application/vnd.jupyter.widget-view+json": {
       "model_id": "8719e7311b3d430aa13f1d4f7797aeb9",
       "version_major": 2,
       "version_minor": 0
      },
      "text/plain": [
       "  0%|          | 0/57 [00:00<?, ?it/s]"
      ]
     },
     "metadata": {},
     "output_type": "display_data"
    },
    {
     "name": "stdout",
     "output_type": "stream",
     "text": [
      "Epoch[9/100], loss_g:2.2426, loss_d: 0.5516, real_score: 0.6927, fake_score: 0.1066\n",
      "Saving generated-images-0009.png\n"
     ]
    },
    {
     "data": {
      "application/vnd.jupyter.widget-view+json": {
       "model_id": "4cb2f35697524b109c18387e85ced7fe",
       "version_major": 2,
       "version_minor": 0
      },
      "text/plain": [
       "  0%|          | 0/57 [00:00<?, ?it/s]"
      ]
     },
     "metadata": {},
     "output_type": "display_data"
    },
    {
     "name": "stdout",
     "output_type": "stream",
     "text": [
      "Epoch[10/100], loss_g:3.3119, loss_d: 0.3530, real_score: 0.8590, fake_score: 0.1368\n",
      "Saving generated-images-0010.png\n"
     ]
    },
    {
     "data": {
      "application/vnd.jupyter.widget-view+json": {
       "model_id": "5c130c8763494f9da62df584163afec9",
       "version_major": 2,
       "version_minor": 0
      },
      "text/plain": [
       "  0%|          | 0/57 [00:00<?, ?it/s]"
      ]
     },
     "metadata": {},
     "output_type": "display_data"
    },
    {
     "name": "stdout",
     "output_type": "stream",
     "text": [
      "Epoch[11/100], loss_g:4.5638, loss_d: 0.2561, real_score: 0.9340, fake_score: 0.1606\n",
      "Saving generated-images-0011.png\n"
     ]
    },
    {
     "data": {
      "application/vnd.jupyter.widget-view+json": {
       "model_id": "2f3378a516f84d8695e91b30715429bc",
       "version_major": 2,
       "version_minor": 0
      },
      "text/plain": [
       "  0%|          | 0/57 [00:00<?, ?it/s]"
      ]
     },
     "metadata": {},
     "output_type": "display_data"
    },
    {
     "name": "stdout",
     "output_type": "stream",
     "text": [
      "Epoch[12/100], loss_g:3.5442, loss_d: 0.2159, real_score: 0.8588, fake_score: 0.0429\n",
      "Saving generated-images-0012.png\n"
     ]
    },
    {
     "data": {
      "application/vnd.jupyter.widget-view+json": {
       "model_id": "a61f744279a9400f90a13698869f40e1",
       "version_major": 2,
       "version_minor": 0
      },
      "text/plain": [
       "  0%|          | 0/57 [00:00<?, ?it/s]"
      ]
     },
     "metadata": {},
     "output_type": "display_data"
    },
    {
     "name": "stdout",
     "output_type": "stream",
     "text": [
      "Epoch[13/100], loss_g:4.5094, loss_d: 0.3503, real_score: 0.8813, fake_score: 0.1766\n",
      "Saving generated-images-0013.png\n"
     ]
    },
    {
     "data": {
      "application/vnd.jupyter.widget-view+json": {
       "model_id": "f2638ad6ad794995b2abc0bc30bf595e",
       "version_major": 2,
       "version_minor": 0
      },
      "text/plain": [
       "  0%|          | 0/57 [00:00<?, ?it/s]"
      ]
     },
     "metadata": {},
     "output_type": "display_data"
    },
    {
     "name": "stdout",
     "output_type": "stream",
     "text": [
      "Epoch[14/100], loss_g:3.0185, loss_d: 0.4760, real_score: 0.7077, fake_score: 0.0547\n",
      "Saving generated-images-0014.png\n"
     ]
    },
    {
     "data": {
      "application/vnd.jupyter.widget-view+json": {
       "model_id": "f860c1bab42447299ac21609b3f96455",
       "version_major": 2,
       "version_minor": 0
      },
      "text/plain": [
       "  0%|          | 0/57 [00:00<?, ?it/s]"
      ]
     },
     "metadata": {},
     "output_type": "display_data"
    },
    {
     "name": "stdout",
     "output_type": "stream",
     "text": [
      "Epoch[15/100], loss_g:5.5896, loss_d: 0.4524, real_score: 0.9142, fake_score: 0.2669\n",
      "Saving generated-images-0015.png\n"
     ]
    },
    {
     "data": {
      "application/vnd.jupyter.widget-view+json": {
       "model_id": "c34957b4701c473c8724d21b055d3f8d",
       "version_major": 2,
       "version_minor": 0
      },
      "text/plain": [
       "  0%|          | 0/57 [00:00<?, ?it/s]"
      ]
     },
     "metadata": {},
     "output_type": "display_data"
    },
    {
     "name": "stdout",
     "output_type": "stream",
     "text": [
      "Epoch[16/100], loss_g:2.5597, loss_d: 0.4813, real_score: 0.7568, fake_score: 0.1275\n",
      "Saving generated-images-0016.png\n"
     ]
    },
    {
     "data": {
      "application/vnd.jupyter.widget-view+json": {
       "model_id": "5496b6629f16445585427c1271d9fb2c",
       "version_major": 2,
       "version_minor": 0
      },
      "text/plain": [
       "  0%|          | 0/57 [00:00<?, ?it/s]"
      ]
     },
     "metadata": {},
     "output_type": "display_data"
    },
    {
     "name": "stdout",
     "output_type": "stream",
     "text": [
      "Epoch[17/100], loss_g:4.0221, loss_d: 0.3562, real_score: 0.8539, fake_score: 0.1538\n",
      "Saving generated-images-0017.png\n"
     ]
    },
    {
     "data": {
      "application/vnd.jupyter.widget-view+json": {
       "model_id": "efc20c6cecc244e386179e78c9e69098",
       "version_major": 2,
       "version_minor": 0
      },
      "text/plain": [
       "  0%|          | 0/57 [00:00<?, ?it/s]"
      ]
     },
     "metadata": {},
     "output_type": "display_data"
    },
    {
     "name": "stdout",
     "output_type": "stream",
     "text": [
      "Epoch[18/100], loss_g:2.7335, loss_d: 0.4603, real_score: 0.7462, fake_score: 0.0978\n",
      "Saving generated-images-0018.png\n"
     ]
    },
    {
     "data": {
      "application/vnd.jupyter.widget-view+json": {
       "model_id": "efcb1c720d8a443c990a8f66c41b4a3e",
       "version_major": 2,
       "version_minor": 0
      },
      "text/plain": [
       "  0%|          | 0/57 [00:00<?, ?it/s]"
      ]
     },
     "metadata": {},
     "output_type": "display_data"
    },
    {
     "name": "stdout",
     "output_type": "stream",
     "text": [
      "Epoch[19/100], loss_g:5.6299, loss_d: 0.4342, real_score: 0.9344, fake_score: 0.2700\n",
      "Saving generated-images-0019.png\n"
     ]
    },
    {
     "data": {
      "application/vnd.jupyter.widget-view+json": {
       "model_id": "5c6e642e48434c3d87fa30a572cfa7b5",
       "version_major": 2,
       "version_minor": 0
      },
      "text/plain": [
       "  0%|          | 0/57 [00:00<?, ?it/s]"
      ]
     },
     "metadata": {},
     "output_type": "display_data"
    },
    {
     "name": "stdout",
     "output_type": "stream",
     "text": [
      "Epoch[20/100], loss_g:4.3408, loss_d: 0.3533, real_score: 0.9226, fake_score: 0.2110\n",
      "Saving generated-images-0020.png\n"
     ]
    },
    {
     "data": {
      "application/vnd.jupyter.widget-view+json": {
       "model_id": "d1fcfb82c024444682a2e0bcbbe09f58",
       "version_major": 2,
       "version_minor": 0
      },
      "text/plain": [
       "  0%|          | 0/57 [00:00<?, ?it/s]"
      ]
     },
     "metadata": {},
     "output_type": "display_data"
    },
    {
     "name": "stdout",
     "output_type": "stream",
     "text": [
      "Epoch[21/100], loss_g:3.4584, loss_d: 0.3043, real_score: 0.8413, fake_score: 0.1059\n",
      "Saving generated-images-0021.png\n"
     ]
    },
    {
     "data": {
      "application/vnd.jupyter.widget-view+json": {
       "model_id": "3866a3f4189c4e78933240bd3e72c951",
       "version_major": 2,
       "version_minor": 0
      },
      "text/plain": [
       "  0%|          | 0/57 [00:00<?, ?it/s]"
      ]
     },
     "metadata": {},
     "output_type": "display_data"
    },
    {
     "name": "stdout",
     "output_type": "stream",
     "text": [
      "Epoch[22/100], loss_g:2.1010, loss_d: 0.2690, real_score: 0.8507, fake_score: 0.0826\n",
      "Saving generated-images-0022.png\n"
     ]
    },
    {
     "data": {
      "application/vnd.jupyter.widget-view+json": {
       "model_id": "df32f2d731984252aaa22e794f2edbdc",
       "version_major": 2,
       "version_minor": 0
      },
      "text/plain": [
       "  0%|          | 0/57 [00:00<?, ?it/s]"
      ]
     },
     "metadata": {},
     "output_type": "display_data"
    },
    {
     "name": "stdout",
     "output_type": "stream",
     "text": [
      "Epoch[23/100], loss_g:4.4215, loss_d: 0.3275, real_score: 0.8449, fake_score: 0.1134\n",
      "Saving generated-images-0023.png\n"
     ]
    },
    {
     "data": {
      "application/vnd.jupyter.widget-view+json": {
       "model_id": "b314d4b664b54f8fb498efb205808012",
       "version_major": 2,
       "version_minor": 0
      },
      "text/plain": [
       "  0%|          | 0/57 [00:00<?, ?it/s]"
      ]
     },
     "metadata": {},
     "output_type": "display_data"
    },
    {
     "name": "stdout",
     "output_type": "stream",
     "text": [
      "Epoch[24/100], loss_g:3.8850, loss_d: 0.2177, real_score: 0.8922, fake_score: 0.0860\n",
      "Saving generated-images-0024.png\n"
     ]
    },
    {
     "data": {
      "application/vnd.jupyter.widget-view+json": {
       "model_id": "4f44ca7554844854ad6e4ead1b999820",
       "version_major": 2,
       "version_minor": 0
      },
      "text/plain": [
       "  0%|          | 0/57 [00:00<?, ?it/s]"
      ]
     },
     "metadata": {},
     "output_type": "display_data"
    },
    {
     "name": "stdout",
     "output_type": "stream",
     "text": [
      "Epoch[25/100], loss_g:4.6811, loss_d: 0.2207, real_score: 0.9172, fake_score: 0.1133\n",
      "Saving generated-images-0025.png\n"
     ]
    },
    {
     "data": {
      "application/vnd.jupyter.widget-view+json": {
       "model_id": "90e3e25e8a4442fd82f16e60283e6c11",
       "version_major": 2,
       "version_minor": 0
      },
      "text/plain": [
       "  0%|          | 0/57 [00:00<?, ?it/s]"
      ]
     },
     "metadata": {},
     "output_type": "display_data"
    },
    {
     "name": "stdout",
     "output_type": "stream",
     "text": [
      "Epoch[26/100], loss_g:4.9061, loss_d: 0.3285, real_score: 0.9274, fake_score: 0.1977\n",
      "Saving generated-images-0026.png\n"
     ]
    },
    {
     "data": {
      "application/vnd.jupyter.widget-view+json": {
       "model_id": "5a4fde6a883540e28627838a361f9a56",
       "version_major": 2,
       "version_minor": 0
      },
      "text/plain": [
       "  0%|          | 0/57 [00:00<?, ?it/s]"
      ]
     },
     "metadata": {},
     "output_type": "display_data"
    },
    {
     "name": "stdout",
     "output_type": "stream",
     "text": [
      "Epoch[27/100], loss_g:4.7772, loss_d: 0.1601, real_score: 0.9711, fake_score: 0.1138\n",
      "Saving generated-images-0027.png\n"
     ]
    },
    {
     "data": {
      "application/vnd.jupyter.widget-view+json": {
       "model_id": "9aff7c885e2d408c935354565ad2a8d6",
       "version_major": 2,
       "version_minor": 0
      },
      "text/plain": [
       "  0%|          | 0/57 [00:00<?, ?it/s]"
      ]
     },
     "metadata": {},
     "output_type": "display_data"
    },
    {
     "name": "stdout",
     "output_type": "stream",
     "text": [
      "Epoch[28/100], loss_g:2.9680, loss_d: 0.7097, real_score: 0.7368, fake_score: 0.2453\n",
      "Saving generated-images-0028.png\n"
     ]
    },
    {
     "data": {
      "application/vnd.jupyter.widget-view+json": {
       "model_id": "3aee8bcda15741378a95a05f57c74748",
       "version_major": 2,
       "version_minor": 0
      },
      "text/plain": [
       "  0%|          | 0/57 [00:00<?, ?it/s]"
      ]
     },
     "metadata": {},
     "output_type": "display_data"
    },
    {
     "name": "stdout",
     "output_type": "stream",
     "text": [
      "Epoch[29/100], loss_g:5.8234, loss_d: 0.5276, real_score: 0.9448, fake_score: 0.3380\n",
      "Saving generated-images-0029.png\n"
     ]
    },
    {
     "data": {
      "application/vnd.jupyter.widget-view+json": {
       "model_id": "143fbf3d472b42d1b1130f77f5bc711f",
       "version_major": 2,
       "version_minor": 0
      },
      "text/plain": [
       "  0%|          | 0/57 [00:00<?, ?it/s]"
      ]
     },
     "metadata": {},
     "output_type": "display_data"
    },
    {
     "name": "stdout",
     "output_type": "stream",
     "text": [
      "Epoch[30/100], loss_g:4.2469, loss_d: 0.2300, real_score: 0.9539, fake_score: 0.1562\n",
      "Saving generated-images-0030.png\n"
     ]
    },
    {
     "data": {
      "application/vnd.jupyter.widget-view+json": {
       "model_id": "8f4cd616d32944bf9c6200cf30c9bfb3",
       "version_major": 2,
       "version_minor": 0
      },
      "text/plain": [
       "  0%|          | 0/57 [00:00<?, ?it/s]"
      ]
     },
     "metadata": {},
     "output_type": "display_data"
    },
    {
     "name": "stdout",
     "output_type": "stream",
     "text": [
      "Epoch[31/100], loss_g:4.4074, loss_d: 0.2692, real_score: 0.9085, fake_score: 0.1384\n",
      "Saving generated-images-0031.png\n"
     ]
    },
    {
     "data": {
      "application/vnd.jupyter.widget-view+json": {
       "model_id": "8873e08dc9db4770896a6ddf83293990",
       "version_major": 2,
       "version_minor": 0
      },
      "text/plain": [
       "  0%|          | 0/57 [00:00<?, ?it/s]"
      ]
     },
     "metadata": {},
     "output_type": "display_data"
    },
    {
     "name": "stdout",
     "output_type": "stream",
     "text": [
      "Epoch[32/100], loss_g:2.7483, loss_d: 0.1970, real_score: 0.9004, fake_score: 0.0757\n",
      "Saving generated-images-0032.png\n"
     ]
    },
    {
     "data": {
      "application/vnd.jupyter.widget-view+json": {
       "model_id": "20f8d82728654824aea0815c19ed2e91",
       "version_major": 2,
       "version_minor": 0
      },
      "text/plain": [
       "  0%|          | 0/57 [00:00<?, ?it/s]"
      ]
     },
     "metadata": {},
     "output_type": "display_data"
    },
    {
     "name": "stdout",
     "output_type": "stream",
     "text": [
      "Epoch[33/100], loss_g:3.6405, loss_d: 0.3017, real_score: 0.8506, fake_score: 0.1051\n",
      "Saving generated-images-0033.png\n"
     ]
    },
    {
     "data": {
      "application/vnd.jupyter.widget-view+json": {
       "model_id": "96fed1a41c014824822142379e95cc6d",
       "version_major": 2,
       "version_minor": 0
      },
      "text/plain": [
       "  0%|          | 0/57 [00:00<?, ?it/s]"
      ]
     },
     "metadata": {},
     "output_type": "display_data"
    },
    {
     "name": "stdout",
     "output_type": "stream",
     "text": [
      "Epoch[34/100], loss_g:4.3385, loss_d: 0.2968, real_score: 0.9220, fake_score: 0.1694\n",
      "Saving generated-images-0034.png\n"
     ]
    },
    {
     "data": {
      "application/vnd.jupyter.widget-view+json": {
       "model_id": "c51b93d6008f4e9cb066b6e1661f6135",
       "version_major": 2,
       "version_minor": 0
      },
      "text/plain": [
       "  0%|          | 0/57 [00:00<?, ?it/s]"
      ]
     },
     "metadata": {},
     "output_type": "display_data"
    },
    {
     "name": "stdout",
     "output_type": "stream",
     "text": [
      "Epoch[35/100], loss_g:4.8262, loss_d: 0.1238, real_score: 0.9245, fake_score: 0.0410\n",
      "Saving generated-images-0035.png\n"
     ]
    },
    {
     "data": {
      "application/vnd.jupyter.widget-view+json": {
       "model_id": "d57f7e669d334e578b4ef72b06886edc",
       "version_major": 2,
       "version_minor": 0
      },
      "text/plain": [
       "  0%|          | 0/57 [00:00<?, ?it/s]"
      ]
     },
     "metadata": {},
     "output_type": "display_data"
    },
    {
     "name": "stdout",
     "output_type": "stream",
     "text": [
      "Epoch[36/100], loss_g:2.8669, loss_d: 0.2752, real_score: 0.8996, fake_score: 0.1295\n",
      "Saving generated-images-0036.png\n"
     ]
    },
    {
     "data": {
      "application/vnd.jupyter.widget-view+json": {
       "model_id": "f7f2f645128e4e0a87a6fb4cd00e401e",
       "version_major": 2,
       "version_minor": 0
      },
      "text/plain": [
       "  0%|          | 0/57 [00:00<?, ?it/s]"
      ]
     },
     "metadata": {},
     "output_type": "display_data"
    },
    {
     "name": "stdout",
     "output_type": "stream",
     "text": [
      "Epoch[37/100], loss_g:4.1542, loss_d: 0.2031, real_score: 0.9257, fake_score: 0.1040\n",
      "Saving generated-images-0037.png\n"
     ]
    },
    {
     "data": {
      "application/vnd.jupyter.widget-view+json": {
       "model_id": "f2272d08e5434b80bbfe5116c7112d0f",
       "version_major": 2,
       "version_minor": 0
      },
      "text/plain": [
       "  0%|          | 0/57 [00:00<?, ?it/s]"
      ]
     },
     "metadata": {},
     "output_type": "display_data"
    },
    {
     "name": "stdout",
     "output_type": "stream",
     "text": [
      "Epoch[38/100], loss_g:2.1023, loss_d: 1.5254, real_score: 0.5909, fake_score: 0.3261\n",
      "Saving generated-images-0038.png\n"
     ]
    },
    {
     "data": {
      "application/vnd.jupyter.widget-view+json": {
       "model_id": "6b50aeca6e944d568bf9317ff1e8264b",
       "version_major": 2,
       "version_minor": 0
      },
      "text/plain": [
       "  0%|          | 0/57 [00:00<?, ?it/s]"
      ]
     },
     "metadata": {},
     "output_type": "display_data"
    },
    {
     "name": "stdout",
     "output_type": "stream",
     "text": [
      "Epoch[39/100], loss_g:4.8019, loss_d: 0.3715, real_score: 0.9421, fake_score: 0.2380\n",
      "Saving generated-images-0039.png\n"
     ]
    },
    {
     "data": {
      "application/vnd.jupyter.widget-view+json": {
       "model_id": "2c9c113c79474c1eaf5bfd857c17da5e",
       "version_major": 2,
       "version_minor": 0
      },
      "text/plain": [
       "  0%|          | 0/57 [00:00<?, ?it/s]"
      ]
     },
     "metadata": {},
     "output_type": "display_data"
    },
    {
     "name": "stdout",
     "output_type": "stream",
     "text": [
      "Epoch[40/100], loss_g:3.9690, loss_d: 0.1651, real_score: 0.9687, fake_score: 0.1144\n",
      "Saving generated-images-0040.png\n"
     ]
    },
    {
     "data": {
      "application/vnd.jupyter.widget-view+json": {
       "model_id": "87612292c685452785bee9c82b071e2c",
       "version_major": 2,
       "version_minor": 0
      },
      "text/plain": [
       "  0%|          | 0/57 [00:00<?, ?it/s]"
      ]
     },
     "metadata": {},
     "output_type": "display_data"
    },
    {
     "name": "stdout",
     "output_type": "stream",
     "text": [
      "Epoch[41/100], loss_g:2.4651, loss_d: 0.3666, real_score: 0.7341, fake_score: 0.0125\n",
      "Saving generated-images-0041.png\n"
     ]
    },
    {
     "data": {
      "application/vnd.jupyter.widget-view+json": {
       "model_id": "97b143616f09404e99534e53674740e4",
       "version_major": 2,
       "version_minor": 0
      },
      "text/plain": [
       "  0%|          | 0/57 [00:00<?, ?it/s]"
      ]
     },
     "metadata": {},
     "output_type": "display_data"
    },
    {
     "name": "stdout",
     "output_type": "stream",
     "text": [
      "Epoch[42/100], loss_g:4.6287, loss_d: 0.2504, real_score: 0.9387, fake_score: 0.1561\n",
      "Saving generated-images-0042.png\n"
     ]
    },
    {
     "data": {
      "application/vnd.jupyter.widget-view+json": {
       "model_id": "13fd0d66293546f88c53e544b1fb8115",
       "version_major": 2,
       "version_minor": 0
      },
      "text/plain": [
       "  0%|          | 0/57 [00:00<?, ?it/s]"
      ]
     },
     "metadata": {},
     "output_type": "display_data"
    },
    {
     "name": "stdout",
     "output_type": "stream",
     "text": [
      "Epoch[43/100], loss_g:2.7030, loss_d: 0.2092, real_score: 0.8758, fake_score: 0.0632\n",
      "Saving generated-images-0043.png\n"
     ]
    },
    {
     "data": {
      "application/vnd.jupyter.widget-view+json": {
       "model_id": "5cd3bd2fe5964ba3b1bb69f49f717787",
       "version_major": 2,
       "version_minor": 0
      },
      "text/plain": [
       "  0%|          | 0/57 [00:00<?, ?it/s]"
      ]
     },
     "metadata": {},
     "output_type": "display_data"
    },
    {
     "name": "stdout",
     "output_type": "stream",
     "text": [
      "Epoch[44/100], loss_g:5.0732, loss_d: 0.1777, real_score: 0.9700, fake_score: 0.1276\n",
      "Saving generated-images-0044.png\n"
     ]
    },
    {
     "data": {
      "application/vnd.jupyter.widget-view+json": {
       "model_id": "cae16199cb154963b0e24bc975970567",
       "version_major": 2,
       "version_minor": 0
      },
      "text/plain": [
       "  0%|          | 0/57 [00:00<?, ?it/s]"
      ]
     },
     "metadata": {},
     "output_type": "display_data"
    },
    {
     "name": "stdout",
     "output_type": "stream",
     "text": [
      "Epoch[45/100], loss_g:3.5990, loss_d: 0.5575, real_score: 0.8631, fake_score: 0.2758\n",
      "Saving generated-images-0045.png\n"
     ]
    },
    {
     "data": {
      "application/vnd.jupyter.widget-view+json": {
       "model_id": "9a745ab4c0504159a1bdeed0b1ead524",
       "version_major": 2,
       "version_minor": 0
      },
      "text/plain": [
       "  0%|          | 0/57 [00:00<?, ?it/s]"
      ]
     },
     "metadata": {},
     "output_type": "display_data"
    },
    {
     "name": "stdout",
     "output_type": "stream",
     "text": [
      "Epoch[46/100], loss_g:1.7042, loss_d: 0.4389, real_score: 0.7154, fake_score: 0.0241\n",
      "Saving generated-images-0046.png\n"
     ]
    },
    {
     "data": {
      "application/vnd.jupyter.widget-view+json": {
       "model_id": "b9d2e38a77f149e0954ae95c43251bc8",
       "version_major": 2,
       "version_minor": 0
      },
      "text/plain": [
       "  0%|          | 0/57 [00:00<?, ?it/s]"
      ]
     },
     "metadata": {},
     "output_type": "display_data"
    },
    {
     "name": "stdout",
     "output_type": "stream",
     "text": [
      "Epoch[47/100], loss_g:2.2188, loss_d: 0.3460, real_score: 0.8065, fake_score: 0.1002\n",
      "Saving generated-images-0047.png\n"
     ]
    },
    {
     "data": {
      "application/vnd.jupyter.widget-view+json": {
       "model_id": "0217220c40c64d6fb16f2604dbaa8006",
       "version_major": 2,
       "version_minor": 0
      },
      "text/plain": [
       "  0%|          | 0/57 [00:00<?, ?it/s]"
      ]
     },
     "metadata": {},
     "output_type": "display_data"
    },
    {
     "name": "stdout",
     "output_type": "stream",
     "text": [
      "Epoch[48/100], loss_g:2.2218, loss_d: 0.2510, real_score: 0.8441, fake_score: 0.0534\n",
      "Saving generated-images-0048.png\n"
     ]
    },
    {
     "data": {
      "application/vnd.jupyter.widget-view+json": {
       "model_id": "c6be4204f63c48f0a0d08b9e785e299d",
       "version_major": 2,
       "version_minor": 0
      },
      "text/plain": [
       "  0%|          | 0/57 [00:00<?, ?it/s]"
      ]
     },
     "metadata": {},
     "output_type": "display_data"
    },
    {
     "name": "stdout",
     "output_type": "stream",
     "text": [
      "Epoch[49/100], loss_g:2.8455, loss_d: 0.2123, real_score: 0.8593, fake_score: 0.0417\n",
      "Saving generated-images-0049.png\n"
     ]
    },
    {
     "data": {
      "application/vnd.jupyter.widget-view+json": {
       "model_id": "99453868264d4b15b9281b10f3531d13",
       "version_major": 2,
       "version_minor": 0
      },
      "text/plain": [
       "  0%|          | 0/57 [00:00<?, ?it/s]"
      ]
     },
     "metadata": {},
     "output_type": "display_data"
    },
    {
     "name": "stdout",
     "output_type": "stream",
     "text": [
      "Epoch[50/100], loss_g:3.3451, loss_d: 0.1328, real_score: 0.9257, fake_score: 0.0494\n",
      "Saving generated-images-0050.png\n"
     ]
    },
    {
     "data": {
      "application/vnd.jupyter.widget-view+json": {
       "model_id": "83875cefe56b47db9525fe169d659d3e",
       "version_major": 2,
       "version_minor": 0
      },
      "text/plain": [
       "  0%|          | 0/57 [00:00<?, ?it/s]"
      ]
     },
     "metadata": {},
     "output_type": "display_data"
    },
    {
     "name": "stdout",
     "output_type": "stream",
     "text": [
      "Epoch[51/100], loss_g:5.3341, loss_d: 0.0469, real_score: 0.9776, fake_score: 0.0227\n",
      "Saving generated-images-0051.png\n"
     ]
    },
    {
     "data": {
      "application/vnd.jupyter.widget-view+json": {
       "model_id": "7e2332c6c1e64200b594c41a25c8360b",
       "version_major": 2,
       "version_minor": 0
      },
      "text/plain": [
       "  0%|          | 0/57 [00:00<?, ?it/s]"
      ]
     },
     "metadata": {},
     "output_type": "display_data"
    },
    {
     "name": "stdout",
     "output_type": "stream",
     "text": [
      "Epoch[52/100], loss_g:2.6452, loss_d: 0.9770, real_score: 0.6499, fake_score: 0.2460\n",
      "Saving generated-images-0052.png\n"
     ]
    },
    {
     "data": {
      "application/vnd.jupyter.widget-view+json": {
       "model_id": "c8b25179e3a34f54bdb22f9be800ee71",
       "version_major": 2,
       "version_minor": 0
      },
      "text/plain": [
       "  0%|          | 0/57 [00:00<?, ?it/s]"
      ]
     },
     "metadata": {},
     "output_type": "display_data"
    },
    {
     "name": "stdout",
     "output_type": "stream",
     "text": [
      "Epoch[53/100], loss_g:4.2728, loss_d: 0.2759, real_score: 0.9327, fake_score: 0.1673\n",
      "Saving generated-images-0053.png\n"
     ]
    },
    {
     "data": {
      "application/vnd.jupyter.widget-view+json": {
       "model_id": "99cf79836f0c446f867b445b4ca12833",
       "version_major": 2,
       "version_minor": 0
      },
      "text/plain": [
       "  0%|          | 0/57 [00:00<?, ?it/s]"
      ]
     },
     "metadata": {},
     "output_type": "display_data"
    },
    {
     "name": "stdout",
     "output_type": "stream",
     "text": [
      "Epoch[54/100], loss_g:2.7557, loss_d: 0.2145, real_score: 0.8369, fake_score: 0.0268\n",
      "Saving generated-images-0054.png\n"
     ]
    },
    {
     "data": {
      "application/vnd.jupyter.widget-view+json": {
       "model_id": "7edd72f2cd2e47bfb3f375660f682fc7",
       "version_major": 2,
       "version_minor": 0
      },
      "text/plain": [
       "  0%|          | 0/57 [00:00<?, ?it/s]"
      ]
     },
     "metadata": {},
     "output_type": "display_data"
    },
    {
     "name": "stdout",
     "output_type": "stream",
     "text": [
      "Epoch[55/100], loss_g:3.9005, loss_d: 0.1349, real_score: 0.9763, fake_score: 0.0966\n",
      "Saving generated-images-0055.png\n"
     ]
    },
    {
     "data": {
      "application/vnd.jupyter.widget-view+json": {
       "model_id": "f15438230d4f4e6f90b9462b385973aa",
       "version_major": 2,
       "version_minor": 0
      },
      "text/plain": [
       "  0%|          | 0/57 [00:00<?, ?it/s]"
      ]
     },
     "metadata": {},
     "output_type": "display_data"
    },
    {
     "name": "stdout",
     "output_type": "stream",
     "text": [
      "Epoch[56/100], loss_g:3.9880, loss_d: 0.1039, real_score: 0.9329, fake_score: 0.0305\n",
      "Saving generated-images-0056.png\n"
     ]
    },
    {
     "data": {
      "application/vnd.jupyter.widget-view+json": {
       "model_id": "9eef711ac82643b69c3d229468652556",
       "version_major": 2,
       "version_minor": 0
      },
      "text/plain": [
       "  0%|          | 0/57 [00:00<?, ?it/s]"
      ]
     },
     "metadata": {},
     "output_type": "display_data"
    },
    {
     "name": "stdout",
     "output_type": "stream",
     "text": [
      "Epoch[57/100], loss_g:5.2134, loss_d: 0.2107, real_score: 0.9891, fake_score: 0.1609\n",
      "Saving generated-images-0057.png\n"
     ]
    },
    {
     "data": {
      "application/vnd.jupyter.widget-view+json": {
       "model_id": "8ffbf094e2af4cf489b76e5d2fceb8c9",
       "version_major": 2,
       "version_minor": 0
      },
      "text/plain": [
       "  0%|          | 0/57 [00:00<?, ?it/s]"
      ]
     },
     "metadata": {},
     "output_type": "display_data"
    },
    {
     "name": "stdout",
     "output_type": "stream",
     "text": [
      "Epoch[58/100], loss_g:2.6082, loss_d: 0.7762, real_score: 0.6563, fake_score: 0.2098\n",
      "Saving generated-images-0058.png\n"
     ]
    },
    {
     "data": {
      "application/vnd.jupyter.widget-view+json": {
       "model_id": "854d397ac6bb45568385ced2e0fe61db",
       "version_major": 2,
       "version_minor": 0
      },
      "text/plain": [
       "  0%|          | 0/57 [00:00<?, ?it/s]"
      ]
     },
     "metadata": {},
     "output_type": "display_data"
    },
    {
     "name": "stdout",
     "output_type": "stream",
     "text": [
      "Epoch[59/100], loss_g:3.0583, loss_d: 0.2290, real_score: 0.8823, fake_score: 0.0821\n",
      "Saving generated-images-0059.png\n"
     ]
    },
    {
     "data": {
      "application/vnd.jupyter.widget-view+json": {
       "model_id": "401018c27210436cad8993562f503ef3",
       "version_major": 2,
       "version_minor": 0
      },
      "text/plain": [
       "  0%|          | 0/57 [00:00<?, ?it/s]"
      ]
     },
     "metadata": {},
     "output_type": "display_data"
    },
    {
     "name": "stdout",
     "output_type": "stream",
     "text": [
      "Epoch[60/100], loss_g:4.9158, loss_d: 0.0707, real_score: 0.9809, fake_score: 0.0478\n",
      "Saving generated-images-0060.png\n"
     ]
    },
    {
     "data": {
      "application/vnd.jupyter.widget-view+json": {
       "model_id": "4964e6090ea8491abd73f7664f7d84cf",
       "version_major": 2,
       "version_minor": 0
      },
      "text/plain": [
       "  0%|          | 0/57 [00:00<?, ?it/s]"
      ]
     },
     "metadata": {},
     "output_type": "display_data"
    },
    {
     "name": "stdout",
     "output_type": "stream",
     "text": [
      "Epoch[61/100], loss_g:4.0614, loss_d: 0.0712, real_score: 0.9609, fake_score: 0.0299\n",
      "Saving generated-images-0061.png\n"
     ]
    },
    {
     "data": {
      "application/vnd.jupyter.widget-view+json": {
       "model_id": "c8599601c66f4020afdc8991d894552e",
       "version_major": 2,
       "version_minor": 0
      },
      "text/plain": [
       "  0%|          | 0/57 [00:00<?, ?it/s]"
      ]
     },
     "metadata": {},
     "output_type": "display_data"
    },
    {
     "name": "stdout",
     "output_type": "stream",
     "text": [
      "Epoch[62/100], loss_g:4.8948, loss_d: 8.3432, real_score: 0.9996, fake_score: 0.9963\n",
      "Saving generated-images-0062.png\n"
     ]
    },
    {
     "data": {
      "application/vnd.jupyter.widget-view+json": {
       "model_id": "3facfe967e554bfbb9e7a4ef297b2eba",
       "version_major": 2,
       "version_minor": 0
      },
      "text/plain": [
       "  0%|          | 0/57 [00:00<?, ?it/s]"
      ]
     },
     "metadata": {},
     "output_type": "display_data"
    },
    {
     "name": "stdout",
     "output_type": "stream",
     "text": [
      "Epoch[63/100], loss_g:4.4097, loss_d: 0.0980, real_score: 0.9692, fake_score: 0.0580\n",
      "Saving generated-images-0063.png\n"
     ]
    },
    {
     "data": {
      "application/vnd.jupyter.widget-view+json": {
       "model_id": "8f24bdaae23d4c83a15df04833df3592",
       "version_major": 2,
       "version_minor": 0
      },
      "text/plain": [
       "  0%|          | 0/57 [00:00<?, ?it/s]"
      ]
     },
     "metadata": {},
     "output_type": "display_data"
    },
    {
     "name": "stdout",
     "output_type": "stream",
     "text": [
      "Epoch[64/100], loss_g:4.4500, loss_d: 0.0965, real_score: 0.9776, fake_score: 0.0680\n",
      "Saving generated-images-0064.png\n"
     ]
    },
    {
     "data": {
      "application/vnd.jupyter.widget-view+json": {
       "model_id": "70f382995b4b4656bdb537ca1b294bff",
       "version_major": 2,
       "version_minor": 0
      },
      "text/plain": [
       "  0%|          | 0/57 [00:00<?, ?it/s]"
      ]
     },
     "metadata": {},
     "output_type": "display_data"
    },
    {
     "name": "stdout",
     "output_type": "stream",
     "text": [
      "Epoch[65/100], loss_g:4.3804, loss_d: 0.0830, real_score: 0.9645, fake_score: 0.0429\n",
      "Saving generated-images-0065.png\n"
     ]
    },
    {
     "data": {
      "application/vnd.jupyter.widget-view+json": {
       "model_id": "52b2b55c5afc414298b641083049edf2",
       "version_major": 2,
       "version_minor": 0
      },
      "text/plain": [
       "  0%|          | 0/57 [00:00<?, ?it/s]"
      ]
     },
     "metadata": {},
     "output_type": "display_data"
    },
    {
     "name": "stdout",
     "output_type": "stream",
     "text": [
      "Epoch[66/100], loss_g:3.5792, loss_d: 0.0883, real_score: 0.9371, fake_score: 0.0214\n",
      "Saving generated-images-0066.png\n"
     ]
    },
    {
     "data": {
      "application/vnd.jupyter.widget-view+json": {
       "model_id": "941f6c1532cd4484bd7e048555e711ee",
       "version_major": 2,
       "version_minor": 0
      },
      "text/plain": [
       "  0%|          | 0/57 [00:00<?, ?it/s]"
      ]
     },
     "metadata": {},
     "output_type": "display_data"
    },
    {
     "name": "stdout",
     "output_type": "stream",
     "text": [
      "Epoch[67/100], loss_g:4.0885, loss_d: 0.3173, real_score: 0.8864, fake_score: 0.1537\n",
      "Saving generated-images-0067.png\n"
     ]
    },
    {
     "data": {
      "application/vnd.jupyter.widget-view+json": {
       "model_id": "4bece42957e647f9b3c4605d63ab88ad",
       "version_major": 2,
       "version_minor": 0
      },
      "text/plain": [
       "  0%|          | 0/57 [00:00<?, ?it/s]"
      ]
     },
     "metadata": {},
     "output_type": "display_data"
    },
    {
     "name": "stdout",
     "output_type": "stream",
     "text": [
      "Epoch[68/100], loss_g:4.3955, loss_d: 0.1952, real_score: 0.9680, fake_score: 0.1368\n",
      "Saving generated-images-0068.png\n"
     ]
    },
    {
     "data": {
      "application/vnd.jupyter.widget-view+json": {
       "model_id": "3f185eea233b4aa69e4d6b268a513b7f",
       "version_major": 2,
       "version_minor": 0
      },
      "text/plain": [
       "  0%|          | 0/57 [00:00<?, ?it/s]"
      ]
     },
     "metadata": {},
     "output_type": "display_data"
    },
    {
     "name": "stdout",
     "output_type": "stream",
     "text": [
      "Epoch[69/100], loss_g:4.7304, loss_d: 0.0646, real_score: 0.9812, fake_score: 0.0430\n",
      "Saving generated-images-0069.png\n"
     ]
    },
    {
     "data": {
      "application/vnd.jupyter.widget-view+json": {
       "model_id": "618e5264779b4f5e848ba3779301338f",
       "version_major": 2,
       "version_minor": 0
      },
      "text/plain": [
       "  0%|          | 0/57 [00:00<?, ?it/s]"
      ]
     },
     "metadata": {},
     "output_type": "display_data"
    },
    {
     "name": "stdout",
     "output_type": "stream",
     "text": [
      "Epoch[70/100], loss_g:5.1491, loss_d: 0.0488, real_score: 0.9805, fake_score: 0.0275\n",
      "Saving generated-images-0070.png\n"
     ]
    },
    {
     "data": {
      "application/vnd.jupyter.widget-view+json": {
       "model_id": "7a95bfdcf31d4f8a83a35f82c9f1ee02",
       "version_major": 2,
       "version_minor": 0
      },
      "text/plain": [
       "  0%|          | 0/57 [00:00<?, ?it/s]"
      ]
     },
     "metadata": {},
     "output_type": "display_data"
    },
    {
     "name": "stdout",
     "output_type": "stream",
     "text": [
      "Epoch[71/100], loss_g:3.3996, loss_d: 0.0977, real_score: 0.9404, fake_score: 0.0320\n",
      "Saving generated-images-0071.png\n"
     ]
    },
    {
     "data": {
      "application/vnd.jupyter.widget-view+json": {
       "model_id": "353ec1735d7740c8877850abf76fb701",
       "version_major": 2,
       "version_minor": 0
      },
      "text/plain": [
       "  0%|          | 0/57 [00:00<?, ?it/s]"
      ]
     },
     "metadata": {},
     "output_type": "display_data"
    },
    {
     "name": "stdout",
     "output_type": "stream",
     "text": [
      "Epoch[72/100], loss_g:3.3991, loss_d: 0.4455, real_score: 0.7969, fake_score: 0.1302\n",
      "Saving generated-images-0072.png\n"
     ]
    },
    {
     "data": {
      "application/vnd.jupyter.widget-view+json": {
       "model_id": "c3de20d78fec4f30b151e6adfa530e20",
       "version_major": 2,
       "version_minor": 0
      },
      "text/plain": [
       "  0%|          | 0/57 [00:00<?, ?it/s]"
      ]
     },
     "metadata": {},
     "output_type": "display_data"
    },
    {
     "name": "stdout",
     "output_type": "stream",
     "text": [
      "Epoch[73/100], loss_g:4.3891, loss_d: 0.1279, real_score: 0.9706, fake_score: 0.0878\n",
      "Saving generated-images-0073.png\n"
     ]
    },
    {
     "data": {
      "application/vnd.jupyter.widget-view+json": {
       "model_id": "c769e4b1a77a41ee925fdda351aaa463",
       "version_major": 2,
       "version_minor": 0
      },
      "text/plain": [
       "  0%|          | 0/57 [00:00<?, ?it/s]"
      ]
     },
     "metadata": {},
     "output_type": "display_data"
    },
    {
     "name": "stdout",
     "output_type": "stream",
     "text": [
      "Epoch[74/100], loss_g:3.7159, loss_d: 0.1002, real_score: 0.9451, fake_score: 0.0395\n",
      "Saving generated-images-0074.png\n"
     ]
    },
    {
     "data": {
      "application/vnd.jupyter.widget-view+json": {
       "model_id": "cf2f200f867d4cc3b82156f4e27474e7",
       "version_major": 2,
       "version_minor": 0
      },
      "text/plain": [
       "  0%|          | 0/57 [00:00<?, ?it/s]"
      ]
     },
     "metadata": {},
     "output_type": "display_data"
    },
    {
     "name": "stdout",
     "output_type": "stream",
     "text": [
      "Epoch[75/100], loss_g:2.7179, loss_d: 0.9893, real_score: 0.5286, fake_score: 0.0524\n",
      "Saving generated-images-0075.png\n"
     ]
    },
    {
     "data": {
      "application/vnd.jupyter.widget-view+json": {
       "model_id": "59945d6c88b147b68d0ad84df3eb0a81",
       "version_major": 2,
       "version_minor": 0
      },
      "text/plain": [
       "  0%|          | 0/57 [00:00<?, ?it/s]"
      ]
     },
     "metadata": {},
     "output_type": "display_data"
    },
    {
     "name": "stdout",
     "output_type": "stream",
     "text": [
      "Epoch[76/100], loss_g:4.0203, loss_d: 0.1203, real_score: 0.9216, fake_score: 0.0334\n",
      "Saving generated-images-0076.png\n"
     ]
    },
    {
     "data": {
      "application/vnd.jupyter.widget-view+json": {
       "model_id": "7fcf7242a8d84b36bdae9834957c8b5b",
       "version_major": 2,
       "version_minor": 0
      },
      "text/plain": [
       "  0%|          | 0/57 [00:00<?, ?it/s]"
      ]
     },
     "metadata": {},
     "output_type": "display_data"
    },
    {
     "name": "stdout",
     "output_type": "stream",
     "text": [
      "Epoch[77/100], loss_g:3.8375, loss_d: 0.0879, real_score: 0.9301, fake_score: 0.0126\n",
      "Saving generated-images-0077.png\n"
     ]
    },
    {
     "data": {
      "application/vnd.jupyter.widget-view+json": {
       "model_id": "7916fe53fc4e4810993d7a3d9861e14a",
       "version_major": 2,
       "version_minor": 0
      },
      "text/plain": [
       "  0%|          | 0/57 [00:00<?, ?it/s]"
      ]
     },
     "metadata": {},
     "output_type": "display_data"
    },
    {
     "name": "stdout",
     "output_type": "stream",
     "text": [
      "Epoch[78/100], loss_g:4.2703, loss_d: 0.0547, real_score: 0.9716, fake_score: 0.0247\n",
      "Saving generated-images-0078.png\n"
     ]
    },
    {
     "data": {
      "application/vnd.jupyter.widget-view+json": {
       "model_id": "4e5721c7920c41afb833461666435208",
       "version_major": 2,
       "version_minor": 0
      },
      "text/plain": [
       "  0%|          | 0/57 [00:00<?, ?it/s]"
      ]
     },
     "metadata": {},
     "output_type": "display_data"
    },
    {
     "name": "stdout",
     "output_type": "stream",
     "text": [
      "Epoch[79/100], loss_g:3.9353, loss_d: 0.0612, real_score: 0.9538, fake_score: 0.0125\n",
      "Saving generated-images-0079.png\n"
     ]
    },
    {
     "data": {
      "application/vnd.jupyter.widget-view+json": {
       "model_id": "a7b2f83d01ac42b78ee5f7b8eb1760b3",
       "version_major": 2,
       "version_minor": 0
      },
      "text/plain": [
       "  0%|          | 0/57 [00:00<?, ?it/s]"
      ]
     },
     "metadata": {},
     "output_type": "display_data"
    },
    {
     "name": "stdout",
     "output_type": "stream",
     "text": [
      "Epoch[80/100], loss_g:3.7892, loss_d: 0.0690, real_score: 0.9695, fake_score: 0.0358\n",
      "Saving generated-images-0080.png\n"
     ]
    },
    {
     "data": {
      "application/vnd.jupyter.widget-view+json": {
       "model_id": "9f49e0fff2fe4e0faef0a9e921ff245b",
       "version_major": 2,
       "version_minor": 0
      },
      "text/plain": [
       "  0%|          | 0/57 [00:00<?, ?it/s]"
      ]
     },
     "metadata": {},
     "output_type": "display_data"
    },
    {
     "name": "stdout",
     "output_type": "stream",
     "text": [
      "Epoch[81/100], loss_g:4.2310, loss_d: 0.1279, real_score: 0.9261, fake_score: 0.0412\n",
      "Saving generated-images-0081.png\n"
     ]
    },
    {
     "data": {
      "application/vnd.jupyter.widget-view+json": {
       "model_id": "ebda18e3ade74af1969456e9c2c57a52",
       "version_major": 2,
       "version_minor": 0
      },
      "text/plain": [
       "  0%|          | 0/57 [00:00<?, ?it/s]"
      ]
     },
     "metadata": {},
     "output_type": "display_data"
    },
    {
     "name": "stdout",
     "output_type": "stream",
     "text": [
      "Epoch[82/100], loss_g:4.2073, loss_d: 0.0738, real_score: 0.9616, fake_score: 0.0325\n",
      "Saving generated-images-0082.png\n"
     ]
    },
    {
     "data": {
      "application/vnd.jupyter.widget-view+json": {
       "model_id": "63fdd59b03d54dc58e0b9320d34eed63",
       "version_major": 2,
       "version_minor": 0
      },
      "text/plain": [
       "  0%|          | 0/57 [00:00<?, ?it/s]"
      ]
     },
     "metadata": {},
     "output_type": "display_data"
    },
    {
     "name": "stdout",
     "output_type": "stream",
     "text": [
      "Epoch[83/100], loss_g:4.6519, loss_d: 0.0651, real_score: 0.9788, fake_score: 0.0395\n",
      "Saving generated-images-0083.png\n"
     ]
    },
    {
     "data": {
      "application/vnd.jupyter.widget-view+json": {
       "model_id": "d267838503d541cfba207c147dc35d69",
       "version_major": 2,
       "version_minor": 0
      },
      "text/plain": [
       "  0%|          | 0/57 [00:00<?, ?it/s]"
      ]
     },
     "metadata": {},
     "output_type": "display_data"
    },
    {
     "name": "stdout",
     "output_type": "stream",
     "text": [
      "Epoch[84/100], loss_g:4.4779, loss_d: 0.0688, real_score: 0.9586, fake_score: 0.0242\n",
      "Saving generated-images-0084.png\n"
     ]
    },
    {
     "data": {
      "application/vnd.jupyter.widget-view+json": {
       "model_id": "5dee170655c44f2fad50a8e549fb6a89",
       "version_major": 2,
       "version_minor": 0
      },
      "text/plain": [
       "  0%|          | 0/57 [00:00<?, ?it/s]"
      ]
     },
     "metadata": {},
     "output_type": "display_data"
    },
    {
     "name": "stdout",
     "output_type": "stream",
     "text": [
      "Epoch[85/100], loss_g:4.5966, loss_d: 0.0703, real_score: 0.9980, fake_score: 0.0612\n",
      "Saving generated-images-0085.png\n"
     ]
    },
    {
     "data": {
      "application/vnd.jupyter.widget-view+json": {
       "model_id": "bc2a3a76c61845c898352213be79a6e4",
       "version_major": 2,
       "version_minor": 0
      },
      "text/plain": [
       "  0%|          | 0/57 [00:00<?, ?it/s]"
      ]
     },
     "metadata": {},
     "output_type": "display_data"
    },
    {
     "name": "stdout",
     "output_type": "stream",
     "text": [
      "Epoch[86/100], loss_g:4.3182, loss_d: 0.0787, real_score: 0.9649, fake_score: 0.0401\n",
      "Saving generated-images-0086.png\n"
     ]
    },
    {
     "data": {
      "application/vnd.jupyter.widget-view+json": {
       "model_id": "5c71b8d531f04a9683abd6d351d3578a",
       "version_major": 2,
       "version_minor": 0
      },
      "text/plain": [
       "  0%|          | 0/57 [00:00<?, ?it/s]"
      ]
     },
     "metadata": {},
     "output_type": "display_data"
    },
    {
     "name": "stdout",
     "output_type": "stream",
     "text": [
      "Epoch[87/100], loss_g:5.4570, loss_d: 0.0430, real_score: 0.9937, fake_score: 0.0333\n",
      "Saving generated-images-0087.png\n"
     ]
    },
    {
     "data": {
      "application/vnd.jupyter.widget-view+json": {
       "model_id": "1948871cfffe4646a40303ba2907532a",
       "version_major": 2,
       "version_minor": 0
      },
      "text/plain": [
       "  0%|          | 0/57 [00:00<?, ?it/s]"
      ]
     },
     "metadata": {},
     "output_type": "display_data"
    },
    {
     "name": "stdout",
     "output_type": "stream",
     "text": [
      "Epoch[88/100], loss_g:5.0137, loss_d: 0.0715, real_score: 0.9970, fake_score: 0.0620\n",
      "Saving generated-images-0088.png\n"
     ]
    },
    {
     "data": {
      "application/vnd.jupyter.widget-view+json": {
       "model_id": "1f37a0be969b41a690b5668707df098c",
       "version_major": 2,
       "version_minor": 0
      },
      "text/plain": [
       "  0%|          | 0/57 [00:00<?, ?it/s]"
      ]
     },
     "metadata": {},
     "output_type": "display_data"
    },
    {
     "name": "stdout",
     "output_type": "stream",
     "text": [
      "Epoch[89/100], loss_g:5.1192, loss_d: 0.0251, real_score: 0.9935, fake_score: 0.0177\n",
      "Saving generated-images-0089.png\n"
     ]
    },
    {
     "data": {
      "application/vnd.jupyter.widget-view+json": {
       "model_id": "a04a091e9d824ebfbc122a9cce1cc9e4",
       "version_major": 2,
       "version_minor": 0
      },
      "text/plain": [
       "  0%|          | 0/57 [00:00<?, ?it/s]"
      ]
     },
     "metadata": {},
     "output_type": "display_data"
    },
    {
     "name": "stdout",
     "output_type": "stream",
     "text": [
      "Epoch[90/100], loss_g:5.2689, loss_d: 0.0416, real_score: 0.9837, fake_score: 0.0237\n",
      "Saving generated-images-0090.png\n"
     ]
    },
    {
     "data": {
      "application/vnd.jupyter.widget-view+json": {
       "model_id": "2e1d135671bb4092bc5d5d303b54faf2",
       "version_major": 2,
       "version_minor": 0
      },
      "text/plain": [
       "  0%|          | 0/57 [00:00<?, ?it/s]"
      ]
     },
     "metadata": {},
     "output_type": "display_data"
    },
    {
     "name": "stdout",
     "output_type": "stream",
     "text": [
      "Epoch[91/100], loss_g:5.6548, loss_d: 0.0246, real_score: 0.9931, fake_score: 0.0171\n",
      "Saving generated-images-0091.png\n"
     ]
    },
    {
     "data": {
      "application/vnd.jupyter.widget-view+json": {
       "model_id": "8086a8eb825341e3a97c5dae7977cd74",
       "version_major": 2,
       "version_minor": 0
      },
      "text/plain": [
       "  0%|          | 0/57 [00:00<?, ?it/s]"
      ]
     },
     "metadata": {},
     "output_type": "display_data"
    },
    {
     "name": "stdout",
     "output_type": "stream",
     "text": [
      "Epoch[92/100], loss_g:0.0262, loss_d: 0.6695, real_score: 0.5733, fake_score: 0.0005\n",
      "Saving generated-images-0092.png\n"
     ]
    },
    {
     "data": {
      "application/vnd.jupyter.widget-view+json": {
       "model_id": "075d125e16884ff186a8223d8afdbfb2",
       "version_major": 2,
       "version_minor": 0
      },
      "text/plain": [
       "  0%|          | 0/57 [00:00<?, ?it/s]"
      ]
     },
     "metadata": {},
     "output_type": "display_data"
    },
    {
     "name": "stdout",
     "output_type": "stream",
     "text": [
      "Epoch[93/100], loss_g:5.5115, loss_d: 0.7302, real_score: 0.9208, fake_score: 0.3887\n",
      "Saving generated-images-0093.png\n"
     ]
    },
    {
     "data": {
      "application/vnd.jupyter.widget-view+json": {
       "model_id": "7b348d2f449a43fbb7cd172a6ef58bb6",
       "version_major": 2,
       "version_minor": 0
      },
      "text/plain": [
       "  0%|          | 0/57 [00:00<?, ?it/s]"
      ]
     },
     "metadata": {},
     "output_type": "display_data"
    },
    {
     "name": "stdout",
     "output_type": "stream",
     "text": [
      "Epoch[94/100], loss_g:3.6512, loss_d: 0.4173, real_score: 0.9428, fake_score: 0.2513\n",
      "Saving generated-images-0094.png\n"
     ]
    },
    {
     "data": {
      "application/vnd.jupyter.widget-view+json": {
       "model_id": "7097d48dbe1144358516f653b32debfc",
       "version_major": 2,
       "version_minor": 0
      },
      "text/plain": [
       "  0%|          | 0/57 [00:00<?, ?it/s]"
      ]
     },
     "metadata": {},
     "output_type": "display_data"
    },
    {
     "name": "stdout",
     "output_type": "stream",
     "text": [
      "Epoch[95/100], loss_g:4.2033, loss_d: 0.1230, real_score: 0.9512, fake_score: 0.0644\n",
      "Saving generated-images-0095.png\n"
     ]
    },
    {
     "data": {
      "application/vnd.jupyter.widget-view+json": {
       "model_id": "2399371764934f81ad57a0ba0a64428a",
       "version_major": 2,
       "version_minor": 0
      },
      "text/plain": [
       "  0%|          | 0/57 [00:00<?, ?it/s]"
      ]
     },
     "metadata": {},
     "output_type": "display_data"
    },
    {
     "name": "stdout",
     "output_type": "stream",
     "text": [
      "Epoch[96/100], loss_g:6.3205, loss_d: 2.0367, real_score: 0.9537, fake_score: 0.6860\n",
      "Saving generated-images-0096.png\n"
     ]
    },
    {
     "data": {
      "application/vnd.jupyter.widget-view+json": {
       "model_id": "73b3a40a6ca9450c835edbbcf108e2dd",
       "version_major": 2,
       "version_minor": 0
      },
      "text/plain": [
       "  0%|          | 0/57 [00:00<?, ?it/s]"
      ]
     },
     "metadata": {},
     "output_type": "display_data"
    },
    {
     "name": "stdout",
     "output_type": "stream",
     "text": [
      "Epoch[97/100], loss_g:4.2203, loss_d: 0.1102, real_score: 0.9415, fake_score: 0.0442\n",
      "Saving generated-images-0097.png\n"
     ]
    },
    {
     "data": {
      "application/vnd.jupyter.widget-view+json": {
       "model_id": "633b0568bef54e6592c813f5996b473e",
       "version_major": 2,
       "version_minor": 0
      },
      "text/plain": [
       "  0%|          | 0/57 [00:00<?, ?it/s]"
      ]
     },
     "metadata": {},
     "output_type": "display_data"
    },
    {
     "name": "stdout",
     "output_type": "stream",
     "text": [
      "Epoch[98/100], loss_g:3.9397, loss_d: 0.1165, real_score: 0.9619, fake_score: 0.0672\n",
      "Saving generated-images-0098.png\n"
     ]
    },
    {
     "data": {
      "application/vnd.jupyter.widget-view+json": {
       "model_id": "ac006a2c749e4631863496aa2de1516a",
       "version_major": 2,
       "version_minor": 0
      },
      "text/plain": [
       "  0%|          | 0/57 [00:00<?, ?it/s]"
      ]
     },
     "metadata": {},
     "output_type": "display_data"
    },
    {
     "name": "stdout",
     "output_type": "stream",
     "text": [
      "Epoch[99/100], loss_g:3.5134, loss_d: 0.2132, real_score: 0.8303, fake_score: 0.0041\n",
      "Saving generated-images-0099.png\n"
     ]
    },
    {
     "data": {
      "application/vnd.jupyter.widget-view+json": {
       "model_id": "379bf67e1130478e9cd7f2d7e5ef9e30",
       "version_major": 2,
       "version_minor": 0
      },
      "text/plain": [
       "  0%|          | 0/57 [00:00<?, ?it/s]"
      ]
     },
     "metadata": {},
     "output_type": "display_data"
    },
    {
     "name": "stdout",
     "output_type": "stream",
     "text": [
      "Epoch[100/100], loss_g:4.0272, loss_d: 0.0965, real_score: 0.9355, fake_score: 0.0254\n",
      "Saving generated-images-0100.png\n"
     ]
    }
   ],
   "source": [
    "history=fit(epochs,lr)"
   ]
  },
  {
   "cell_type": "code",
   "execution_count": null,
   "id": "f3c68e40",
   "metadata": {},
   "outputs": [],
   "source": []
  }
 ],
 "metadata": {
  "kernelspec": {
   "display_name": "Python 3 (ipykernel)",
   "language": "python",
   "name": "python3"
  },
  "language_info": {
   "codemirror_mode": {
    "name": "ipython",
    "version": 3
   },
   "file_extension": ".py",
   "mimetype": "text/x-python",
   "name": "python",
   "nbconvert_exporter": "python",
   "pygments_lexer": "ipython3",
   "version": "3.10.13"
  }
 },
 "nbformat": 4,
 "nbformat_minor": 5
}
